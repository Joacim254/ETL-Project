{
 "cells": [
  {
   "cell_type": "code",
   "execution_count": 1,
   "metadata": {},
   "outputs": [],
   "source": [
    "import pandas as pd\n",
    "import re\n",
    "from sqlalchemy import create_engine\n",
    "import pyodbc\n",
    "import sqlite3\n",
    "from skygarden_1 import skygarden\n",
    "from jumia_1 import jumia\n",
    "from kilimall import mall"
   ]
  },
  {
   "cell_type": "markdown",
   "metadata": {},
   "source": [
    "Jumia data"
   ]
  },
  {
   "cell_type": "code",
   "execution_count": 2,
   "metadata": {},
   "outputs": [],
   "source": [
    "#loading jumia dataframe from jumia_1 \n",
    "jm = jumia()\n"
   ]
  },
  {
   "cell_type": "code",
   "execution_count": 3,
   "metadata": {},
   "outputs": [],
   "source": [
    "#Spliting long item description name to retreive the item name.\n",
    "col_1 = jm['item_name'].str.split(' ')"
   ]
  },
  {
   "cell_type": "code",
   "execution_count": 4,
   "metadata": {},
   "outputs": [],
   "source": [
    "#dropping rows with missing values\n",
    "jm.dropna(inplace=True)"
   ]
  },
  {
   "cell_type": "code",
   "execution_count": 89,
   "metadata": {},
   "outputs": [],
   "source": [
    "#Creating item_description column/series.\n",
    "item_1 = jm['item_name'].str.lower()\n",
    "item_description = []\n",
    "for o in item_1:\n",
    "    item_description.append(o)"
   ]
  },
  {
   "cell_type": "code",
   "execution_count": 90,
   "metadata": {},
   "outputs": [],
   "source": [
    "col_1 = jm['item_name'].str.split(' ')"
   ]
  },
  {
   "cell_type": "code",
   "execution_count": 126,
   "metadata": {},
   "outputs": [],
   "source": [
    "#creating brand column/series\n",
    "brand = []\n",
    "for m in col_1:\n",
    "    brand.append(m[0].lower())"
   ]
  },
  {
   "cell_type": "code",
   "execution_count": 92,
   "metadata": {},
   "outputs": [],
   "source": [
    "#Removing % sign from the discount column\n",
    "remove_perc = jm['item_discount'].str.strip('%')"
   ]
  },
  {
   "cell_type": "code",
   "execution_count": 93,
   "metadata": {},
   "outputs": [],
   "source": [
    "#removing minus sign from the discount values\n",
    "remove_minus = remove_perc.str.strip('-')"
   ]
  },
  {
   "cell_type": "code",
   "execution_count": 94,
   "metadata": {},
   "outputs": [],
   "source": [
    "#creating discount column\n",
    "item_discount = []\n",
    "for k in remove_minus:\n",
    "    try:\n",
    "        conv_dec = int(k)/100\n",
    "    except:\n",
    "        conv_dec = 0\n",
    "    item_discount.append(conv_dec)"
   ]
  },
  {
   "cell_type": "code",
   "execution_count": 95,
   "metadata": {},
   "outputs": [],
   "source": [
    "#removing ksh from the item_price column\n",
    "remove_ksh = jm['item_price'].str.split(' ')\n"
   ]
  },
  {
   "cell_type": "code",
   "execution_count": 96,
   "metadata": {},
   "outputs": [],
   "source": [
    "# creating item_price column\n",
    "item_price = []\n",
    "for l in remove_ksh:\n",
    "    item_price.append(l[1].replace(',',''))"
   ]
  },
  {
   "cell_type": "code",
   "execution_count": 97,
   "metadata": {},
   "outputs": [],
   "source": [
    "# removing ksh from old_item_price\n",
    "remove_old_ksh = jm['item_old_price'].str.split(' ')"
   ]
  },
  {
   "cell_type": "code",
   "execution_count": 98,
   "metadata": {},
   "outputs": [],
   "source": [
    "# creating old_item_price column\n",
    "item_old_price = []\n",
    "for n in remove_old_ksh:\n",
    "    item_old_price.append(n[1].replace(',',''))"
   ]
  },
  {
   "cell_type": "code",
   "execution_count": 99,
   "metadata": {},
   "outputs": [],
   "source": [
    "# Getting tv size fro the item name name column using reqular expressions and then creating tv_size column\n",
    "\n",
    "pattern = '\\s(\\d{2})|(\\d{2})\"'\n",
    "size_jm = []\n",
    "\n",
    "for i in item_description:\n",
    "    k = re.findall(pattern, i)\n",
    "    size_jm.append(k)\n",
    "    \n",
    "jm_size = []\n",
    "\n",
    "for i in size_jm:\n",
    "    try:\n",
    "        x, y = i[0]\n",
    "        x_1 = int(x+y)/1\n",
    "        jm_size.append(x_1)\n",
    "    except:\n",
    "        x, y = '-', '-'\n",
    "        jm_size.append(x)"
   ]
  },
  {
   "cell_type": "code",
   "execution_count": 127,
   "metadata": {},
   "outputs": [],
   "source": [
    "# joining the cleaned jumia data columns using a dict\n",
    "jumia_dict = {'brand': brand,\n",
    "              'item_description': item_description,\n",
    "              'tv_size': jm_size,\n",
    "              'item_price' : item_price,\n",
    "              'item_old_price': item_old_price,\n",
    "              'item_discount' : item_discount\n",
    "              }"
   ]
  },
  {
   "cell_type": "code",
   "execution_count": 174,
   "metadata": {},
   "outputs": [],
   "source": [
    "# creating a dataframe of the jumia data\n",
    "\n",
    "jumia_final = pd.DataFrame(jumia_dict)"
   ]
  },
  {
   "cell_type": "code",
   "execution_count": 175,
   "metadata": {
    "scrolled": true
   },
   "outputs": [
    {
     "data": {
      "text/html": [
       "<div>\n",
       "<style scoped>\n",
       "    .dataframe tbody tr th:only-of-type {\n",
       "        vertical-align: middle;\n",
       "    }\n",
       "\n",
       "    .dataframe tbody tr th {\n",
       "        vertical-align: top;\n",
       "    }\n",
       "\n",
       "    .dataframe thead th {\n",
       "        text-align: right;\n",
       "    }\n",
       "</style>\n",
       "<table border=\"1\" class=\"dataframe\">\n",
       "  <thead>\n",
       "    <tr style=\"text-align: right;\">\n",
       "      <th></th>\n",
       "      <th>brand</th>\n",
       "      <th>item_description</th>\n",
       "      <th>tv_size</th>\n",
       "      <th>item_price</th>\n",
       "      <th>item_old_price</th>\n",
       "      <th>item_discount</th>\n",
       "    </tr>\n",
       "  </thead>\n",
       "  <tbody>\n",
       "    <tr>\n",
       "      <th>0</th>\n",
       "      <td>vitron</td>\n",
       "      <td>vitron 4368fs,43\" inch fhd smart android tv ne...</td>\n",
       "      <td>43</td>\n",
       "      <td>24999</td>\n",
       "      <td>40150</td>\n",
       "      <td>0.38</td>\n",
       "    </tr>\n",
       "    <tr>\n",
       "      <th>1</th>\n",
       "      <td>weyon</td>\n",
       "      <td>weyon 32 inch android smart led tv - black</td>\n",
       "      <td>32</td>\n",
       "      <td>13190</td>\n",
       "      <td>26000</td>\n",
       "      <td>0.49</td>\n",
       "    </tr>\n",
       "    <tr>\n",
       "      <th>2</th>\n",
       "      <td>vitron</td>\n",
       "      <td>vitron htc3200s,32 inch frameless smart androi...</td>\n",
       "      <td>-</td>\n",
       "      <td>14798</td>\n",
       "      <td>25000</td>\n",
       "      <td>0.41</td>\n",
       "    </tr>\n",
       "    <tr>\n",
       "      <th>3</th>\n",
       "      <td>trinity</td>\n",
       "      <td>trinity tr-3258s 32\" inch smart android tv net...</td>\n",
       "      <td>32</td>\n",
       "      <td>13399</td>\n",
       "      <td>25000</td>\n",
       "      <td>0.46</td>\n",
       "    </tr>\n",
       "    <tr>\n",
       "      <th>4</th>\n",
       "      <td>vitron</td>\n",
       "      <td>vitron 4368fs,43\" inch smart android tv 1gbram...</td>\n",
       "      <td>43</td>\n",
       "      <td>25999</td>\n",
       "      <td>45000</td>\n",
       "      <td>0.42</td>\n",
       "    </tr>\n",
       "  </tbody>\n",
       "</table>\n",
       "</div>"
      ],
      "text/plain": [
       "     brand                                   item_description tv_size  \\\n",
       "0   vitron  vitron 4368fs,43\" inch fhd smart android tv ne...      43   \n",
       "1    weyon         weyon 32 inch android smart led tv - black      32   \n",
       "2   vitron  vitron htc3200s,32 inch frameless smart androi...       -   \n",
       "3  trinity  trinity tr-3258s 32\" inch smart android tv net...      32   \n",
       "4   vitron  vitron 4368fs,43\" inch smart android tv 1gbram...      43   \n",
       "\n",
       "  item_price item_old_price  item_discount  \n",
       "0      24999          40150           0.38  \n",
       "1      13190          26000           0.49  \n",
       "2      14798          25000           0.41  \n",
       "3      13399          25000           0.46  \n",
       "4      25999          45000           0.42  "
      ]
     },
     "execution_count": 175,
     "metadata": {},
     "output_type": "execute_result"
    }
   ],
   "source": [
    "# jumia new cleaned dataframed\n",
    "jumia_final.head()"
   ]
  },
  {
   "cell_type": "code",
   "execution_count": 186,
   "metadata": {},
   "outputs": [],
   "source": [
    "jumia_final_1 = jumia_final[~(jumia_final['tv_size'] == '-')]"
   ]
  },
  {
   "cell_type": "markdown",
   "metadata": {},
   "source": [
    "Skygarden Data"
   ]
  },
  {
   "cell_type": "code",
   "execution_count": 59,
   "metadata": {},
   "outputs": [],
   "source": [
    "# loading skygarden dataframe from skygarden_1\n",
    "sky = skygarden()"
   ]
  },
  {
   "cell_type": "code",
   "execution_count": 60,
   "metadata": {},
   "outputs": [],
   "source": [
    "# splitting long item description on item name column to get brand name\n",
    "item_1 = sky['item_name'].str.split(' ')"
   ]
  },
  {
   "cell_type": "code",
   "execution_count": 61,
   "metadata": {},
   "outputs": [],
   "source": [
    "# creating brand column\n",
    "brand = []\n",
    "\n",
    "for z in item_1:\n",
    "    brand.append(z[0].lower())"
   ]
  },
  {
   "cell_type": "code",
   "execution_count": 62,
   "metadata": {},
   "outputs": [],
   "source": [
    "# creating item_description column from item_name\n",
    "item_2 = sky['item_name']\n",
    "item_description = []\n",
    "\n",
    "for y in item_2:\n",
    "    item_description.append(y)"
   ]
  },
  {
   "cell_type": "code",
   "execution_count": 63,
   "metadata": {},
   "outputs": [],
   "source": [
    "#removing ksh from the item_price\n",
    "item_3 = sky['item_price'].str.split(' ')"
   ]
  },
  {
   "cell_type": "code",
   "execution_count": 64,
   "metadata": {},
   "outputs": [
    {
     "data": {
      "text/plain": [
       "91"
      ]
     },
     "execution_count": 64,
     "metadata": {},
     "output_type": "execute_result"
    }
   ],
   "source": [
    "item_price = []\n",
    "for x in  item_3:\n",
    "    item_price.append(x[0].replace(',',''))\n",
    "len(item_price)\n"
   ]
  },
  {
   "cell_type": "code",
   "execution_count": 65,
   "metadata": {},
   "outputs": [],
   "source": [
    "item_4 = sky['item_old_price'].str.split(' ')"
   ]
  },
  {
   "cell_type": "code",
   "execution_count": 66,
   "metadata": {},
   "outputs": [],
   "source": [
    "# Creating item_old_price column\n",
    "item_old_price = []\n",
    "\n",
    "for w in  item_3:\n",
    "    item_old_price.append(w[-2].replace(',',''))"
   ]
  },
  {
   "cell_type": "code",
   "execution_count": 67,
   "metadata": {},
   "outputs": [],
   "source": [
    "# Removing % sign from the item_dicount column\n",
    "item_5 = sky['item_discount'].str.strip('%')"
   ]
  },
  {
   "cell_type": "code",
   "execution_count": 68,
   "metadata": {},
   "outputs": [],
   "source": [
    "# Removing - sign from the discount column\n",
    "item_6 = item_5.str.strip('-')"
   ]
  },
  {
   "cell_type": "code",
   "execution_count": 69,
   "metadata": {},
   "outputs": [],
   "source": [
    "# Creating dicsount coulmn\n",
    "item_discount = []\n",
    "\n",
    "for v in item_6:\n",
    "    try:\n",
    "        dec = int(v)/100\n",
    "    except:\n",
    "        dec = 0\n",
    "    item_discount.append(dec)"
   ]
  },
  {
   "cell_type": "code",
   "execution_count": 70,
   "metadata": {},
   "outputs": [],
   "source": [
    "#Getting tv size from the item description using regular expressions\n",
    "\n",
    "pattern = '\\s(\\d{2})|(\\d{2})\"'\n",
    "size_sky = []\n",
    "\n",
    "for i in item_description:\n",
    "    k = re.findall(pattern, i)\n",
    "    size_sky.append(k)\n",
    "    \n",
    "sky_size = []\n",
    "\n",
    "for i in size_sky:\n",
    "    try:\n",
    "        x, y = i[0]\n",
    "        x_1 = int(x+y)/1\n",
    "        sky_size.append(x_1)\n",
    "    except:\n",
    "        x, y = '-', '-'\n",
    "        sky_size.append(x)"
   ]
  },
  {
   "cell_type": "code",
   "execution_count": 71,
   "metadata": {},
   "outputs": [],
   "source": [
    "# joining the cleaned skygarden data columns using a dict\n",
    "sky_dict = {'brand': brand,\n",
    "             'item_description': item_description,\n",
    "             'tv_size': sky_size,\n",
    "             'item_price': item_price,\n",
    "             'item_old_price': item_old_price,\n",
    "             'item_discount': item_discount\n",
    "             }"
   ]
  },
  {
   "cell_type": "code",
   "execution_count": 158,
   "metadata": {},
   "outputs": [],
   "source": [
    "# creating a dataframe of the skygarden data\n",
    "sky_final = pd.DataFrame(sky_dict)"
   ]
  },
  {
   "cell_type": "code",
   "execution_count": 144,
   "metadata": {},
   "outputs": [
    {
     "data": {
      "text/plain": [
       "91"
      ]
     },
     "execution_count": 144,
     "metadata": {},
     "output_type": "execute_result"
    }
   ],
   "source": [
    "len(sky_final)"
   ]
  },
  {
   "cell_type": "code",
   "execution_count": 184,
   "metadata": {},
   "outputs": [],
   "source": [
    "sky_final_1 = sky_final[~(sky_final['tv_size'] == '-')]"
   ]
  },
  {
   "cell_type": "markdown",
   "metadata": {},
   "source": [
    "Kilimall Data"
   ]
  },
  {
   "cell_type": "code",
   "execution_count": 75,
   "metadata": {},
   "outputs": [
    {
     "ename": "TypeError",
     "evalue": "'DataFrame' object is not callable",
     "output_type": "error",
     "traceback": [
      "\u001b[1;31m---------------------------------------------------------------------------\u001b[0m",
      "\u001b[1;31mTypeError\u001b[0m                                 Traceback (most recent call last)",
      "\u001b[1;32m<ipython-input-75-76d120b46260>\u001b[0m in \u001b[0;36m<module>\u001b[1;34m\u001b[0m\n\u001b[0;32m      1\u001b[0m \u001b[1;31m# Loading kilimall dataframe\u001b[0m\u001b[1;33m\u001b[0m\u001b[1;33m\u001b[0m\u001b[1;33m\u001b[0m\u001b[0m\n\u001b[1;32m----> 2\u001b[1;33m \u001b[0mmall\u001b[0m \u001b[1;33m=\u001b[0m \u001b[0mmall\u001b[0m\u001b[1;33m(\u001b[0m\u001b[1;33m)\u001b[0m\u001b[1;33m\u001b[0m\u001b[1;33m\u001b[0m\u001b[0m\n\u001b[0m",
      "\u001b[1;31mTypeError\u001b[0m: 'DataFrame' object is not callable"
     ]
    }
   ],
   "source": [
    "# Loading kilimall dataframe\n",
    "mall = mall()"
   ]
  },
  {
   "cell_type": "code",
   "execution_count": 76,
   "metadata": {},
   "outputs": [
    {
     "data": {
      "text/html": [
       "<div>\n",
       "<style scoped>\n",
       "    .dataframe tbody tr th:only-of-type {\n",
       "        vertical-align: middle;\n",
       "    }\n",
       "\n",
       "    .dataframe tbody tr th {\n",
       "        vertical-align: top;\n",
       "    }\n",
       "\n",
       "    .dataframe thead th {\n",
       "        text-align: right;\n",
       "    }\n",
       "</style>\n",
       "<table border=\"1\" class=\"dataframe\">\n",
       "  <thead>\n",
       "    <tr style=\"text-align: right;\">\n",
       "      <th></th>\n",
       "      <th>item_name</th>\n",
       "      <th>item_price</th>\n",
       "      <th>item_old_price</th>\n",
       "      <th>item_discount</th>\n",
       "    </tr>\n",
       "  </thead>\n",
       "  <tbody>\n",
       "    <tr>\n",
       "      <th>0</th>\n",
       "      <td>Hisense 32A4G 32 inches Smart Frameless Full H...</td>\n",
       "      <td>KSh 22,299</td>\n",
       "      <td>KSh 23,999</td>\n",
       "      <td>7% Off</td>\n",
       "    </tr>\n",
       "    <tr>\n",
       "      <th>1</th>\n",
       "      <td>LG 55'' 55UP77550 UHD 4K TV HDR WebOS Smart AI...</td>\n",
       "      <td>KSh 76,500</td>\n",
       "      <td>KSh 95,800</td>\n",
       "      <td>20% Off</td>\n",
       "    </tr>\n",
       "    <tr>\n",
       "      <th>2</th>\n",
       "      <td>Hisense 55'' Smart UHD 4K Frameless LED TV 202...</td>\n",
       "      <td>KSh 60,999</td>\n",
       "      <td>KSh 100,000</td>\n",
       "      <td>39% Off</td>\n",
       "    </tr>\n",
       "    <tr>\n",
       "      <th>3</th>\n",
       "      <td>TRINITY 32\" SMART ANDROID HD TV-YOUTUBE/NETFLI...</td>\n",
       "      <td>KSh 13,900</td>\n",
       "      <td>KSh 21,000</td>\n",
       "      <td>33% Off</td>\n",
       "    </tr>\n",
       "    <tr>\n",
       "      <th>4</th>\n",
       "      <td>NEW Vitron HTC5568S,55\" Inches 4K UHD Smart An...</td>\n",
       "      <td>KSh 42,999</td>\n",
       "      <td>KSh 55,000</td>\n",
       "      <td>21% Off</td>\n",
       "    </tr>\n",
       "  </tbody>\n",
       "</table>\n",
       "</div>"
      ],
      "text/plain": [
       "                                           item_name  item_price  \\\n",
       "0  Hisense 32A4G 32 inches Smart Frameless Full H...  KSh 22,299   \n",
       "1  LG 55'' 55UP77550 UHD 4K TV HDR WebOS Smart AI...  KSh 76,500   \n",
       "2  Hisense 55'' Smart UHD 4K Frameless LED TV 202...  KSh 60,999   \n",
       "3  TRINITY 32\" SMART ANDROID HD TV-YOUTUBE/NETFLI...  KSh 13,900   \n",
       "4  NEW Vitron HTC5568S,55\" Inches 4K UHD Smart An...  KSh 42,999   \n",
       "\n",
       "  item_old_price item_discount  \n",
       "0     KSh 23,999        7% Off  \n",
       "1     KSh 95,800       20% Off  \n",
       "2    KSh 100,000       39% Off  \n",
       "3     KSh 21,000       33% Off  \n",
       "4     KSh 55,000       21% Off  "
      ]
     },
     "execution_count": 76,
     "metadata": {},
     "output_type": "execute_result"
    }
   ],
   "source": [
    "#loading kilimall data.\n",
    "mall.head()"
   ]
  },
  {
   "cell_type": "code",
   "execution_count": 77,
   "metadata": {},
   "outputs": [],
   "source": [
    "# Getting brand name from the item description under item_name column\n",
    "item_1 = mall['item_name'].str.split(' ')\n",
    "brand = []\n",
    "for i in item_1:\n",
    "    brand.append(i[0].lower())"
   ]
  },
  {
   "cell_type": "code",
   "execution_count": 78,
   "metadata": {},
   "outputs": [],
   "source": [
    "# removing ksh from the item_price column and creating item_price column\n",
    "item_2 = mall['item_price'].str.split(' ')\n",
    "item_price = []\n",
    "for i in item_2:\n",
    "    item_price.append(i[1].replace(',',''))"
   ]
  },
  {
   "cell_type": "code",
   "execution_count": 79,
   "metadata": {},
   "outputs": [],
   "source": [
    "# removing ksh from the item_old_price column and creating item_old_price column\n",
    "item_3 = mall['item_old_price'].str.split(' ')\n",
    "item_old_price = []\n",
    "\n",
    "for i in item_3:\n",
    "    item_old_price.append(i[1].replace(',',''))"
   ]
  },
  {
   "cell_type": "code",
   "execution_count": 80,
   "metadata": {},
   "outputs": [],
   "source": [
    "item_4 = mall['item_name']"
   ]
  },
  {
   "cell_type": "code",
   "execution_count": 81,
   "metadata": {},
   "outputs": [],
   "source": [
    "# creating item description column\n",
    "item_4 = mall['item_name']\n",
    "item_description = []\n",
    "for i in item_4:\n",
    "    item_description.append(i)"
   ]
  },
  {
   "cell_type": "code",
   "execution_count": 82,
   "metadata": {},
   "outputs": [],
   "source": [
    "item_5 = mall['item_discount'].str.split('%')\n"
   ]
  },
  {
   "cell_type": "code",
   "execution_count": 83,
   "metadata": {},
   "outputs": [],
   "source": [
    "# removing % sign from item_discount and creating item_discount column\n",
    "item_5 = mall['item_discount'].str.split('%')\n",
    "item_discount = []\n",
    "for i in item_5:\n",
    "    try:\n",
    "        discount = int(i[0])/100\n",
    "    except:\n",
    "        discount = 0\n",
    "    item_discount.append(discount)"
   ]
  },
  {
   "cell_type": "code",
   "execution_count": 85,
   "metadata": {},
   "outputs": [],
   "source": [
    "#getting tv size from item description                               \n",
    "size = []\n",
    "\n",
    "for i in item_description:\n",
    "    s = re.findall(pattern, i)\n",
    "    size.append(s)\n",
    "    \n",
    "mall_size = []\n",
    "\n",
    "for i in size:\n",
    "    try:\n",
    "        x, y = i[0]\n",
    "        x_1 = int(x+y)/1\n",
    "        mall_size.append(x_1)\n",
    "    except:\n",
    "        x, y = '-', '-'\n",
    "        mall_size.append(x)"
   ]
  },
  {
   "cell_type": "code",
   "execution_count": 86,
   "metadata": {},
   "outputs": [],
   "source": [
    "# joining the cleaned kilimall data columns using a dict\n",
    "mall_dict = {'brand': brand,\n",
    "             'item_description': item_description,\n",
    "             'tv_size': mall_size,\n",
    "             'item_price': item_price,\n",
    "             'item_old_price': item_old_price,\n",
    "             'item_discount': item_discount\n",
    "            }"
   ]
  },
  {
   "cell_type": "code",
   "execution_count": 87,
   "metadata": {},
   "outputs": [],
   "source": [
    "# creating a dataframe of the kilimall data\n",
    "kilimall_final = pd.DataFrame(mall_dict)"
   ]
  },
  {
   "cell_type": "code",
   "execution_count": 187,
   "metadata": {
    "scrolled": false
   },
   "outputs": [
    {
     "data": {
      "text/html": [
       "<div>\n",
       "<style scoped>\n",
       "    .dataframe tbody tr th:only-of-type {\n",
       "        vertical-align: middle;\n",
       "    }\n",
       "\n",
       "    .dataframe tbody tr th {\n",
       "        vertical-align: top;\n",
       "    }\n",
       "\n",
       "    .dataframe thead th {\n",
       "        text-align: right;\n",
       "    }\n",
       "</style>\n",
       "<table border=\"1\" class=\"dataframe\">\n",
       "  <thead>\n",
       "    <tr style=\"text-align: right;\">\n",
       "      <th></th>\n",
       "      <th>brand</th>\n",
       "      <th>item_description</th>\n",
       "      <th>tv_size</th>\n",
       "      <th>item_price</th>\n",
       "      <th>item_old_price</th>\n",
       "      <th>item_discount</th>\n",
       "    </tr>\n",
       "  </thead>\n",
       "  <tbody>\n",
       "    <tr>\n",
       "      <th>0</th>\n",
       "      <td>hisense</td>\n",
       "      <td>Hisense 32A4G 32 inches Smart Frameless Full H...</td>\n",
       "      <td>32</td>\n",
       "      <td>22299</td>\n",
       "      <td>23999</td>\n",
       "      <td>0.07</td>\n",
       "    </tr>\n",
       "    <tr>\n",
       "      <th>1</th>\n",
       "      <td>lg</td>\n",
       "      <td>LG 55'' 55UP77550 UHD 4K TV HDR WebOS Smart AI...</td>\n",
       "      <td>55</td>\n",
       "      <td>76500</td>\n",
       "      <td>95800</td>\n",
       "      <td>0.20</td>\n",
       "    </tr>\n",
       "    <tr>\n",
       "      <th>2</th>\n",
       "      <td>hisense</td>\n",
       "      <td>Hisense 55'' Smart UHD 4K Frameless LED TV 202...</td>\n",
       "      <td>55</td>\n",
       "      <td>60999</td>\n",
       "      <td>100000</td>\n",
       "      <td>0.39</td>\n",
       "    </tr>\n",
       "    <tr>\n",
       "      <th>3</th>\n",
       "      <td>trinity</td>\n",
       "      <td>TRINITY 32\" SMART ANDROID HD TV-YOUTUBE/NETFLI...</td>\n",
       "      <td>32</td>\n",
       "      <td>13900</td>\n",
       "      <td>21000</td>\n",
       "      <td>0.33</td>\n",
       "    </tr>\n",
       "    <tr>\n",
       "      <th>4</th>\n",
       "      <td>new</td>\n",
       "      <td>NEW Vitron HTC5568S,55\" Inches 4K UHD Smart An...</td>\n",
       "      <td>55</td>\n",
       "      <td>42999</td>\n",
       "      <td>55000</td>\n",
       "      <td>0.21</td>\n",
       "    </tr>\n",
       "  </tbody>\n",
       "</table>\n",
       "</div>"
      ],
      "text/plain": [
       "     brand                                   item_description tv_size  \\\n",
       "0  hisense  Hisense 32A4G 32 inches Smart Frameless Full H...      32   \n",
       "1       lg  LG 55'' 55UP77550 UHD 4K TV HDR WebOS Smart AI...      55   \n",
       "2  hisense  Hisense 55'' Smart UHD 4K Frameless LED TV 202...      55   \n",
       "3  trinity  TRINITY 32\" SMART ANDROID HD TV-YOUTUBE/NETFLI...      32   \n",
       "4      new  NEW Vitron HTC5568S,55\" Inches 4K UHD Smart An...      55   \n",
       "\n",
       "  item_price item_old_price  item_discount  \n",
       "0      22299          23999           0.07  \n",
       "1      76500          95800           0.20  \n",
       "2      60999         100000           0.39  \n",
       "3      13900          21000           0.33  \n",
       "4      42999          55000           0.21  "
      ]
     },
     "execution_count": 187,
     "metadata": {},
     "output_type": "execute_result"
    }
   ],
   "source": [
    "kilimall_final.head()"
   ]
  },
  {
   "cell_type": "code",
   "execution_count": 189,
   "metadata": {},
   "outputs": [],
   "source": [
    "kilimall_final_1 = kilimall_final[~(kilimall_final['tv_size'] == '-')]"
   ]
  },
  {
   "cell_type": "code",
   "execution_count": 46,
   "metadata": {},
   "outputs": [],
   "source": [
    "# creating sqlite database connection\n",
    "#engine = sqlalchemy.create_engine('sqlite:///ecommerce.db')"
   ]
  },
  {
   "cell_type": "code",
   "execution_count": 47,
   "metadata": {},
   "outputs": [],
   "source": [
    "# exporting the data to ecommerce database tables\n",
    "#jumia_final.to_sql('jumia', engine, if_exists= 'replace', index=False)\n",
    "#sky_final.to_sql('kilimall', engine, if_exists= 'replace', index=False)\n",
    "#kilimall_final.to_sql('sky_garden', engine, if_exists= 'replace', index=False)"
   ]
  },
  {
   "cell_type": "code",
   "execution_count": 48,
   "metadata": {},
   "outputs": [],
   "source": [
    "# server = '(LocalDB)\\ecommerce'\n",
    "# database = 'ecommerce'\n",
    "# driver = 'ODBC Driver 17 for SQL Server'\n",
    "# username = 'ecommerce'\n",
    "# password = '1234'\n",
    "# con = f'mssql://{username}:{password}@{server}/{database}?driver={driver}'\n",
    "    \n"
   ]
  },
  {
   "cell_type": "code",
   "execution_count": 49,
   "metadata": {},
   "outputs": [],
   "source": [
    "# engine = create_engine(con)\n",
    "# connection = engine.connect()"
   ]
  },
  {
   "cell_type": "code",
   "execution_count": 50,
   "metadata": {
    "scrolled": false
   },
   "outputs": [],
   "source": [
    "#jumia_final.to_sql('jumia', connection, if_exists='append', index=False)"
   ]
  },
  {
   "cell_type": "code",
   "execution_count": 51,
   "metadata": {},
   "outputs": [
    {
     "data": {
      "text/html": [
       "<div>\n",
       "<style scoped>\n",
       "    .dataframe tbody tr th:only-of-type {\n",
       "        vertical-align: middle;\n",
       "    }\n",
       "\n",
       "    .dataframe tbody tr th {\n",
       "        vertical-align: top;\n",
       "    }\n",
       "\n",
       "    .dataframe thead th {\n",
       "        text-align: right;\n",
       "    }\n",
       "</style>\n",
       "<table border=\"1\" class=\"dataframe\">\n",
       "  <thead>\n",
       "    <tr style=\"text-align: right;\">\n",
       "      <th></th>\n",
       "      <th>brand</th>\n",
       "      <th>item_description</th>\n",
       "      <th>item_price</th>\n",
       "      <th>item_old_price</th>\n",
       "      <th>item_discount</th>\n",
       "    </tr>\n",
       "  </thead>\n",
       "  <tbody>\n",
       "    <tr>\n",
       "      <th>0</th>\n",
       "      <td>jzdc3s</td>\n",
       "      <td>JZDC3S Complete Solar Deep Well Pump Solar Irr...</td>\n",
       "      <td>26352</td>\n",
       "      <td>26352</td>\n",
       "      <td>0.0</td>\n",
       "    </tr>\n",
       "    <tr>\n",
       "      <th>1</th>\n",
       "      <td>vision</td>\n",
       "      <td>VISION PLUS VP8843KV 43\" 4K FRAMELESS V+ OS SM...</td>\n",
       "      <td>39000</td>\n",
       "      <td>39000</td>\n",
       "      <td>0.0</td>\n",
       "    </tr>\n",
       "    <tr>\n",
       "      <th>2</th>\n",
       "      <td>vision</td>\n",
       "      <td>Vision Plus VP2110SB Sound Bar 110 Watts RMS</td>\n",
       "      <td>10097</td>\n",
       "      <td>10097</td>\n",
       "      <td>0.0</td>\n",
       "    </tr>\n",
       "    <tr>\n",
       "      <th>3</th>\n",
       "      <td>vision</td>\n",
       "      <td>Vision Plus VP8832DF 3 Digital TV+FREE WALL MOUNT</td>\n",
       "      <td>24367</td>\n",
       "      <td>24367</td>\n",
       "      <td>0.0</td>\n",
       "    </tr>\n",
       "    <tr>\n",
       "      <th>4</th>\n",
       "      <td>strong</td>\n",
       "      <td>Strong Comfortable Plastic Chair With Metal Tu...</td>\n",
       "      <td>1750</td>\n",
       "      <td>1750</td>\n",
       "      <td>0.0</td>\n",
       "    </tr>\n",
       "    <tr>\n",
       "      <th>...</th>\n",
       "      <td>...</td>\n",
       "      <td>...</td>\n",
       "      <td>...</td>\n",
       "      <td>...</td>\n",
       "      <td>...</td>\n",
       "    </tr>\n",
       "    <tr>\n",
       "      <th>86</th>\n",
       "      <td>vision</td>\n",
       "      <td>Vision 32D Frameless</td>\n",
       "      <td>12999</td>\n",
       "      <td>12999</td>\n",
       "      <td>0.0</td>\n",
       "    </tr>\n",
       "    <tr>\n",
       "      <th>87</th>\n",
       "      <td>hisense</td>\n",
       "      <td>Hisense 70A7100F 70 Inch 4K UHD Smart TV</td>\n",
       "      <td>185775</td>\n",
       "      <td>185775</td>\n",
       "      <td>0.0</td>\n",
       "    </tr>\n",
       "    <tr>\n",
       "      <th>88</th>\n",
       "      <td>samsung</td>\n",
       "      <td>SAMSUNG QA85QN85AAU 85\" 4K NEO Q LED 4K, AU SE...</td>\n",
       "      <td>755995</td>\n",
       "      <td>755995</td>\n",
       "      <td>0.0</td>\n",
       "    </tr>\n",
       "    <tr>\n",
       "      <th>89</th>\n",
       "      <td>hisense</td>\n",
       "      <td>Hisense 50 4K UHD LATEST SMART ANDROID TV,VOIC...</td>\n",
       "      <td>65880</td>\n",
       "      <td>65880</td>\n",
       "      <td>0.0</td>\n",
       "    </tr>\n",
       "    <tr>\n",
       "      <th>90</th>\n",
       "      <td>vitron</td>\n",
       "      <td>Vitron 39 Inch Digital, HTC3946- Picture Quali...</td>\n",
       "      <td>29999</td>\n",
       "      <td>29999</td>\n",
       "      <td>0.0</td>\n",
       "    </tr>\n",
       "  </tbody>\n",
       "</table>\n",
       "<p>91 rows × 5 columns</p>\n",
       "</div>"
      ],
      "text/plain": [
       "      brand                                   item_description item_price  \\\n",
       "0    jzdc3s  JZDC3S Complete Solar Deep Well Pump Solar Irr...      26352   \n",
       "1    vision  VISION PLUS VP8843KV 43\" 4K FRAMELESS V+ OS SM...      39000   \n",
       "2    vision       Vision Plus VP2110SB Sound Bar 110 Watts RMS      10097   \n",
       "3    vision  Vision Plus VP8832DF 3 Digital TV+FREE WALL MOUNT      24367   \n",
       "4    strong  Strong Comfortable Plastic Chair With Metal Tu...       1750   \n",
       "..      ...                                                ...        ...   \n",
       "86   vision                               Vision 32D Frameless      12999   \n",
       "87  hisense           Hisense 70A7100F 70 Inch 4K UHD Smart TV     185775   \n",
       "88  samsung  SAMSUNG QA85QN85AAU 85\" 4K NEO Q LED 4K, AU SE...     755995   \n",
       "89  hisense  Hisense 50 4K UHD LATEST SMART ANDROID TV,VOIC...      65880   \n",
       "90   vitron  Vitron 39 Inch Digital, HTC3946- Picture Quali...      29999   \n",
       "\n",
       "   item_old_price  item_discount  \n",
       "0           26352            0.0  \n",
       "1           39000            0.0  \n",
       "2           10097            0.0  \n",
       "3           24367            0.0  \n",
       "4            1750            0.0  \n",
       "..            ...            ...  \n",
       "86          12999            0.0  \n",
       "87         185775            0.0  \n",
       "88         755995            0.0  \n",
       "89          65880            0.0  \n",
       "90          29999            0.0  \n",
       "\n",
       "[91 rows x 5 columns]"
      ]
     },
     "execution_count": 51,
     "metadata": {},
     "output_type": "execute_result"
    }
   ],
   "source": [
    "sky_final_1"
   ]
  },
  {
   "cell_type": "code",
   "execution_count": 52,
   "metadata": {},
   "outputs": [
    {
     "data": {
      "text/html": [
       "<div>\n",
       "<style scoped>\n",
       "    .dataframe tbody tr th:only-of-type {\n",
       "        vertical-align: middle;\n",
       "    }\n",
       "\n",
       "    .dataframe tbody tr th {\n",
       "        vertical-align: top;\n",
       "    }\n",
       "\n",
       "    .dataframe thead th {\n",
       "        text-align: right;\n",
       "    }\n",
       "</style>\n",
       "<table border=\"1\" class=\"dataframe\">\n",
       "  <thead>\n",
       "    <tr style=\"text-align: right;\">\n",
       "      <th></th>\n",
       "      <th>brand</th>\n",
       "      <th>item_description</th>\n",
       "      <th>item_price</th>\n",
       "      <th>item_old_price</th>\n",
       "      <th>item_discount</th>\n",
       "    </tr>\n",
       "  </thead>\n",
       "  <tbody>\n",
       "    <tr>\n",
       "      <th>0</th>\n",
       "      <td>hisense</td>\n",
       "      <td>Hisense 32A4G 32 inches Smart Frameless Full H...</td>\n",
       "      <td>22299</td>\n",
       "      <td>23999</td>\n",
       "      <td>0.07</td>\n",
       "    </tr>\n",
       "    <tr>\n",
       "      <th>1</th>\n",
       "      <td>lg</td>\n",
       "      <td>LG 55'' 55UP77550 UHD 4K TV HDR WebOS Smart AI...</td>\n",
       "      <td>76500</td>\n",
       "      <td>95800</td>\n",
       "      <td>0.20</td>\n",
       "    </tr>\n",
       "    <tr>\n",
       "      <th>2</th>\n",
       "      <td>hisense</td>\n",
       "      <td>Hisense 55'' Smart UHD 4K Frameless LED TV 202...</td>\n",
       "      <td>60999</td>\n",
       "      <td>100000</td>\n",
       "      <td>0.39</td>\n",
       "    </tr>\n",
       "    <tr>\n",
       "      <th>3</th>\n",
       "      <td>trinity</td>\n",
       "      <td>TRINITY 32\" SMART ANDROID HD TV-YOUTUBE/NETFLI...</td>\n",
       "      <td>13900</td>\n",
       "      <td>21000</td>\n",
       "      <td>0.33</td>\n",
       "    </tr>\n",
       "    <tr>\n",
       "      <th>4</th>\n",
       "      <td>new</td>\n",
       "      <td>NEW Vitron HTC5568S,55\" Inches 4K UHD Smart An...</td>\n",
       "      <td>42999</td>\n",
       "      <td>55000</td>\n",
       "      <td>0.21</td>\n",
       "    </tr>\n",
       "    <tr>\n",
       "      <th>...</th>\n",
       "      <td>...</td>\n",
       "      <td>...</td>\n",
       "      <td>...</td>\n",
       "      <td>...</td>\n",
       "      <td>...</td>\n",
       "    </tr>\n",
       "    <tr>\n",
       "      <th>155</th>\n",
       "      <td>vixoo</td>\n",
       "      <td>VIXOO IN-0132ZF,32\" Inch FRAMELESS SMART Andro...</td>\n",
       "      <td>14499</td>\n",
       "      <td>25000</td>\n",
       "      <td>0.42</td>\n",
       "    </tr>\n",
       "    <tr>\n",
       "      <th>156</th>\n",
       "      <td>syinix</td>\n",
       "      <td>Syinix 32S51, 32 Inch FRAMELESS Smart Full HD ...</td>\n",
       "      <td>14899</td>\n",
       "      <td>18500</td>\n",
       "      <td>0.19</td>\n",
       "    </tr>\n",
       "    <tr>\n",
       "      <th>157</th>\n",
       "      <td>tcl</td>\n",
       "      <td>TCL 55C635 55'' QLED Smart UHD 4K (Google TV) ...</td>\n",
       "      <td>72499</td>\n",
       "      <td>95000</td>\n",
       "      <td>0.23</td>\n",
       "    </tr>\n",
       "    <tr>\n",
       "      <th>158</th>\n",
       "      <td>tcl</td>\n",
       "      <td>TCL 32S65A SMART ANDROID FHD TV, NETFLIX, YOU ...</td>\n",
       "      <td>19799</td>\n",
       "      <td>25500</td>\n",
       "      <td>0.22</td>\n",
       "    </tr>\n",
       "    <tr>\n",
       "      <th>159</th>\n",
       "      <td>hisense</td>\n",
       "      <td>Hisense 50''A62GS FRAMELESS 4K ULTRA HD SMART ...</td>\n",
       "      <td>51299</td>\n",
       "      <td>65000</td>\n",
       "      <td>0.21</td>\n",
       "    </tr>\n",
       "  </tbody>\n",
       "</table>\n",
       "<p>160 rows × 5 columns</p>\n",
       "</div>"
      ],
      "text/plain": [
       "       brand                                   item_description item_price  \\\n",
       "0    hisense  Hisense 32A4G 32 inches Smart Frameless Full H...      22299   \n",
       "1         lg  LG 55'' 55UP77550 UHD 4K TV HDR WebOS Smart AI...      76500   \n",
       "2    hisense  Hisense 55'' Smart UHD 4K Frameless LED TV 202...      60999   \n",
       "3    trinity  TRINITY 32\" SMART ANDROID HD TV-YOUTUBE/NETFLI...      13900   \n",
       "4        new  NEW Vitron HTC5568S,55\" Inches 4K UHD Smart An...      42999   \n",
       "..       ...                                                ...        ...   \n",
       "155    vixoo  VIXOO IN-0132ZF,32\" Inch FRAMELESS SMART Andro...      14499   \n",
       "156   syinix  Syinix 32S51, 32 Inch FRAMELESS Smart Full HD ...      14899   \n",
       "157      tcl  TCL 55C635 55'' QLED Smart UHD 4K (Google TV) ...      72499   \n",
       "158      tcl  TCL 32S65A SMART ANDROID FHD TV, NETFLIX, YOU ...      19799   \n",
       "159  hisense  Hisense 50''A62GS FRAMELESS 4K ULTRA HD SMART ...      51299   \n",
       "\n",
       "    item_old_price  item_discount  \n",
       "0            23999           0.07  \n",
       "1            95800           0.20  \n",
       "2           100000           0.39  \n",
       "3            21000           0.33  \n",
       "4            55000           0.21  \n",
       "..             ...            ...  \n",
       "155          25000           0.42  \n",
       "156          18500           0.19  \n",
       "157          95000           0.23  \n",
       "158          25500           0.22  \n",
       "159          65000           0.21  \n",
       "\n",
       "[160 rows x 5 columns]"
      ]
     },
     "execution_count": 52,
     "metadata": {},
     "output_type": "execute_result"
    }
   ],
   "source": [
    "kilimall_final_1"
   ]
  },
  {
   "cell_type": "code",
   "execution_count": 53,
   "metadata": {},
   "outputs": [],
   "source": [
    "#sky_final.to_sql('sky_garden', connection, if_exists='append', index=False)\n"
   ]
  },
  {
   "cell_type": "code",
   "execution_count": 54,
   "metadata": {},
   "outputs": [],
   "source": [
    "#kilimall_final.to_sql('kilimall', connection, if_exists='append', index=False)"
   ]
  },
  {
   "cell_type": "code",
   "execution_count": null,
   "metadata": {},
   "outputs": [],
   "source": []
  },
  {
   "cell_type": "code",
   "execution_count": null,
   "metadata": {},
   "outputs": [],
   "source": []
  }
 ],
 "metadata": {
  "kernelspec": {
   "display_name": "Python 3",
   "language": "python",
   "name": "python3"
  },
  "language_info": {
   "codemirror_mode": {
    "name": "ipython",
    "version": 3
   },
   "file_extension": ".py",
   "mimetype": "text/x-python",
   "name": "python",
   "nbconvert_exporter": "python",
   "pygments_lexer": "ipython3",
   "version": "3.8.3"
  }
 },
 "nbformat": 4,
 "nbformat_minor": 4
}
